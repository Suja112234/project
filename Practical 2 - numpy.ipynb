{
 "cells": [
  {
   "cell_type": "code",
   "execution_count": 1,
   "metadata": {},
   "outputs": [],
   "source": [
    "import numpy as np"
   ]
  },
  {
   "cell_type": "markdown",
   "metadata": {},
   "source": [
    "#### Creating and accessing numpy array"
   ]
  },
  {
   "cell_type": "code",
   "execution_count": 20,
   "metadata": {},
   "outputs": [
    {
     "name": "stdout",
     "output_type": "stream",
     "text": [
      "[1, 2, 3, 4, 5] <class 'list'>\n",
      "(array([1., 2., 3., 4., 5.]), <class 'numpy.ndarray'>, dtype('float64'))\n",
      "[0 1 2 3 4 5 6 7 8]\n",
      "[1 2 3 4 5 6 7 8 9]\n",
      "[1. 4. 7.]\n",
      "[1. 2. 3. 4. 5.]\n",
      "4.0\n",
      "4.0\n",
      "[2. 3. 4.]\n",
      "[2. 3. 4. 5.]\n"
     ]
    }
   ],
   "source": [
    "l = [1, 2, 3, 4, 5]\n",
    "print((l), type(l))\n",
    "# 1D Array\n",
    "# a = np.array([1, 2, 3, 4, 5])\n",
    "# Creation dtype is optional\n",
    "a = np.array(l, dtype='float64')\n",
    "print((a, type(a), a.dtype))\n",
    "\n",
    "# using arange\n",
    "a2 = np.arange(9)\n",
    "a3 = np.arange(1,10)\n",
    "a4 = np.arange(1,10,3, dtype='float')\n",
    "print(a2)\n",
    "print(a3)\n",
    "print(a4)\n",
    "\n",
    "# Getting elements and slicing\n",
    "print(a)\n",
    "print(a[-2])\n",
    "print(a[3])\n",
    "print(a[1:-1])\n",
    "print(a[1:5])\n"
   ]
  },
  {
   "cell_type": "code",
   "execution_count": 30,
   "metadata": {},
   "outputs": [
    {
     "name": "stdout",
     "output_type": "stream",
     "text": [
      "[[1 2 3]\n",
      " [4 5 6]\n",
      " [7 8 9]]\n",
      "5\n",
      "6\n",
      "[11 12 13 14 15 16 17 18 19]\n",
      "[[11 12 13]\n",
      " [14 15 16]\n",
      " [17 18 19]]\n",
      "[[11 12 13]\n",
      " [14 15 16]\n",
      " [17 18 19]\n",
      " [20 21 22]]\n"
     ]
    }
   ],
   "source": [
    "# Multi Dimentional Array Creation and selection\n",
    "a = np.array([[1, 2, 3], [4, 5, 6], [7, 8, 9]])\n",
    "print(a)\n",
    "print(a[1,1])\n",
    "print(a[1,2])\n",
    "\n",
    "b = np.arange(11,20)\n",
    "print(b)\n",
    "b = b.reshape((3,3))\n",
    "print(b)\n",
    "c = np.arange(11,23).reshape((4,3))\n",
    "print(c)\n"
   ]
  },
  {
   "cell_type": "code",
   "execution_count": null,
   "metadata": {},
   "outputs": [],
   "source": [
    "# Slicing\n",
    "print(c)\n",
    "print(c[1:3,1:])\n",
    "print(c[2,1])\n",
    "\n",
    "# Explore slicing with -"
   ]
  },
  {
   "cell_type": "code",
   "execution_count": null,
   "metadata": {},
   "outputs": [],
   "source": [
    "# array of zeros or ones and random integer with certain dimention\n",
    "# Zeros\n",
    "z = np.zeros((5,4))\n",
    "print(z)\n",
    "# Ones\n",
    "o = np.ones((3,4))\n",
    "print(o)\n",
    "# Random\n",
    "r = np.random.randint(1,100, (6,6))\n",
    "print(r)\n"
   ]
  },
  {
   "cell_type": "code",
   "execution_count": null,
   "metadata": {},
   "outputs": [],
   "source": [
    "# Flattening multi d array to 1 d array using flatten\n",
    "print(r)\n",
    "print(r.flatten())\n"
   ]
  },
  {
   "cell_type": "code",
   "execution_count": 49,
   "metadata": {},
   "outputs": [
    {
     "name": "stdout",
     "output_type": "stream",
     "text": [
      "[[10 11]\n",
      " [12 13]\n",
      " [14 15]\n",
      " [16 17]\n",
      " [18 19]]\n",
      "[[10 12 14 16 18]\n",
      " [11 13 15 17 19]]\n"
     ]
    }
   ],
   "source": [
    "# Transpose row to col and vice versa using transpose\n",
    "na = np.arange(10,20).reshape(5,2)\n",
    "print(na)\n",
    "na_transposed = na.transpose()\n",
    "print(na_transposed)\n"
   ]
  },
  {
   "cell_type": "markdown",
   "metadata": {},
   "source": [
    "#### Basic Functionalities"
   ]
  },
  {
   "cell_type": "code",
   "execution_count": 53,
   "metadata": {},
   "outputs": [
    {
     "name": "stdout",
     "output_type": "stream",
     "text": [
      "[[10 11]\n",
      " [12 13]\n",
      " [14 15]\n",
      " [16 17]\n",
      " [18 19]]\n",
      "<class 'numpy.ndarray'>\n",
      "int32\n",
      "2\n",
      "(5, 2)\n",
      "10\n"
     ]
    }
   ],
   "source": [
    "# type(), dtype, ndim, shape, size, \n",
    "print(na)\n",
    "print(type(na))\n",
    "print(na.dtype)\n",
    "print(na.ndim)\n",
    "print(na.shape)\n",
    "print(na.size)"
   ]
  },
  {
   "cell_type": "markdown",
   "metadata": {},
   "source": [
    "#### Airthmetic operations"
   ]
  },
  {
   "cell_type": "code",
   "execution_count": null,
   "metadata": {},
   "outputs": [],
   "source": [
    "# Calculation with given number\n",
    "print(na)\n",
    "print(na+2)\n",
    "print(na**2)\n",
    "print(na%2)\n",
    "print(na//2)\n",
    "print(na/2)\n"
   ]
  },
  {
   "cell_type": "code",
   "execution_count": null,
   "metadata": {},
   "outputs": [],
   "source": [
    "# Calculation with two different arrays\n",
    "a1 = na\n",
    "a2 = na+2\n",
    "print(a1)\n",
    "print(a2)\n",
    "print(a2-a1)\n",
    "print(a2/a1)\n",
    "print(a2+a1)\n",
    "print(a2*a1)\n",
    "print(a2**a1)"
   ]
  },
  {
   "cell_type": "markdown",
   "metadata": {},
   "source": [
    "#### Type Casting"
   ]
  },
  {
   "cell_type": "code",
   "execution_count": 67,
   "metadata": {},
   "outputs": [
    {
     "name": "stdout",
     "output_type": "stream",
     "text": [
      "(array([1, 2, 3, 4, 5]), dtype('int32'))\n",
      "(array([1., 2., 3., 4., 5.]), dtype('float64'))\n",
      "(array(['1', '2', '3', '4', '5'], dtype='<U11'), dtype('<U11'))\n",
      "(array([1, 2, 3, 4, 5], dtype=object), dtype('O'))\n"
     ]
    }
   ],
   "source": [
    "# crete int array\n",
    "a = np.arange(1,6)\n",
    "print((a, a.dtype))\n",
    "# convert to float\n",
    "af = a.astype('float64')\n",
    "print((af, af.dtype))\n",
    "\n",
    "# convert to string\n",
    "a_s = a.astype('str')\n",
    "print((a_s, a_s.dtype))\n",
    "# convert to object\n",
    "a_o = a.astype('object')\n",
    "print((a_o, a_o.dtype))"
   ]
  },
  {
   "cell_type": "markdown",
   "metadata": {},
   "source": [
    "#### Conversion from/to list"
   ]
  },
  {
   "cell_type": "code",
   "execution_count": 72,
   "metadata": {},
   "outputs": [
    {
     "name": "stdout",
     "output_type": "stream",
     "text": [
      "([3, 4, 5, 6], <class 'list'>)\n",
      "(array([3, 4, 5, 6]), <class 'numpy.ndarray'>)\n",
      "([3, 4, 5, 6], <class 'list'>)\n"
     ]
    }
   ],
   "source": [
    "# Create list\n",
    "l = [3, 4, 5, 6]\n",
    "print((l, type(l)))\n",
    "# list to np array\n",
    "a = np.array(l)\n",
    "print((a, type(a)))\n",
    "# np array to list\n",
    "l1 = a.tolist()\n",
    "print((l, type(l1)))\n",
    "\n",
    "\n",
    "\n"
   ]
  },
  {
   "cell_type": "markdown",
   "metadata": {},
   "source": [
    "#### Statistical methods"
   ]
  },
  {
   "cell_type": "code",
   "execution_count": 70,
   "metadata": {},
   "outputs": [
    {
     "name": "stdout",
     "output_type": "stream",
     "text": [
      "[1 2 3 4 5]\n",
      "1\n",
      "5\n",
      "3.0\n",
      "1.4142135623730951\n"
     ]
    }
   ],
   "source": [
    "# min, max, mean, std\n",
    "print(a)\n",
    "print(a.min())\n",
    "print(a.max())\n",
    "print(a.mean())\n",
    "print(a.std())\n"
   ]
  }
 ],
 "metadata": {
  "kernelspec": {
   "display_name": "base",
   "language": "python",
   "name": "python3"
  },
  "language_info": {
   "codemirror_mode": {
    "name": "ipython",
    "version": 3
   },
   "file_extension": ".py",
   "mimetype": "text/x-python",
   "name": "python",
   "nbconvert_exporter": "python",
   "pygments_lexer": "ipython3",
   "version": "3.11.7"
  }
 },
 "nbformat": 4,
 "nbformat_minor": 2
}
