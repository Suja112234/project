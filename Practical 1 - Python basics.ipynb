{
 "cells": [
  {
   "cell_type": "code",
   "execution_count": 1,
   "metadata": {},
   "outputs": [
    {
     "name": "stdout",
     "output_type": "stream",
     "text": [
      "My name is Shreya\n",
      "1\n",
      "2.3\n",
      "True\n",
      "(True, False)\n"
     ]
    }
   ],
   "source": [
    "print(\"My name is Shreya\")\n",
    "print(1)\n",
    "print(2.3)\n",
    "print(True)\n",
    "print((True, False))"
   ]
  },
  {
   "cell_type": "code",
   "execution_count": 2,
   "metadata": {},
   "outputs": [
    {
     "name": "stdout",
     "output_type": "stream",
     "text": [
      "25\n",
      "1\n",
      "156\n",
      "2.0\n",
      "27\n",
      "1\n",
      "2\n"
     ]
    }
   ],
   "source": [
    "# Airthmetic operators\n",
    "print(12 + 13)\n",
    "print(13-12)\n",
    "\n",
    "print(12*13)\n",
    "print(24/12)\n",
    "\n",
    "print(3**3)\n",
    "\n",
    "print(5%2) # Remainder\n",
    "print(5//2) # Quotent"
   ]
  },
  {
   "cell_type": "code",
   "execution_count": 3,
   "metadata": {},
   "outputs": [
    {
     "name": "stdout",
     "output_type": "stream",
     "text": [
      "True\n",
      "False\n",
      "False\n",
      "False\n",
      "True\n",
      "True\n"
     ]
    }
   ],
   "source": [
    "# Comparison operator\n",
    "print(23==23) # equals to  \n",
    "print(23!=23) # not equals to \n",
    "\n",
    "print(23>23)\n",
    "print(23<23)\n",
    "\n",
    "print(23>=23)\n",
    "print(23<=23)"
   ]
  },
  {
   "cell_type": "code",
   "execution_count": 4,
   "metadata": {},
   "outputs": [
    {
     "name": "stdout",
     "output_type": "stream",
     "text": [
      "(10, 20)\n",
      "(30, 10)\n",
      "60\n"
     ]
    }
   ],
   "source": [
    "# Assignment operators\n",
    "a = 10\n",
    "b = 20\n",
    "\n",
    "print((a, b))\n",
    "\n",
    "a += 20\n",
    "b -= 10\n",
    "\n",
    "print((a, b))\n",
    "\n",
    "a *= 2\n",
    "print(a)\n",
    "\n"
   ]
  },
  {
   "cell_type": "code",
   "execution_count": 5,
   "metadata": {},
   "outputs": [
    {
     "name": "stdout",
     "output_type": "stream",
     "text": [
      "False\n",
      "True\n",
      "False\n",
      "False\n"
     ]
    }
   ],
   "source": [
    "#logical operator\n",
    "print(True and False)\n",
    "print(True or False)\n",
    "print(not True)\n",
    "\n",
    "b = 16\n",
    "print(b>10 and b<15)\n",
    "\n",
    "if(b>10 and b<15):\n",
    "    print(True)\n"
   ]
  },
  {
   "cell_type": "code",
   "execution_count": 6,
   "metadata": {},
   "outputs": [
    {
     "name": "stdout",
     "output_type": "stream",
     "text": [
      "False\n",
      "True\n",
      "True\n",
      "True\n"
     ]
    }
   ],
   "source": [
    "# bitwise operator\n",
    "# and = &, or= |\n",
    "print(True & False)\n",
    "print(True | False)\n",
    "# print(!(20 = 20))\n",
    "\n",
    "b = 16\n",
    "print(b>10 & b<15)\n",
    "\n",
    "if(b>10 & b<15):\n",
    "    print(True)"
   ]
  },
  {
   "cell_type": "code",
   "execution_count": 7,
   "metadata": {},
   "outputs": [
    {
     "name": "stdout",
     "output_type": "stream",
     "text": [
      "a <class 'str'>\n",
      "Rajesh Hamal <class 'str'>\n",
      "10 <class 'int'>\n",
      "23.4 <class 'float'>\n",
      "True <class 'bool'>\n"
     ]
    }
   ],
   "source": [
    "# string\n",
    "grade = 'a'\n",
    "name = \"Rajesh Hamal\"\n",
    "print(grade, type(grade))\n",
    "print(name, type(name))\n",
    "# integer\n",
    "a = 10\n",
    "print(a, type(a))\n",
    "# float\n",
    "b = 23.4\n",
    "print(b, type(b))\n",
    "# boolean\n",
    "workDone = True\n",
    "print(workDone, type(workDone))\n"
   ]
  },
  {
   "cell_type": "code",
   "execution_count": 8,
   "metadata": {},
   "outputs": [
    {
     "name": "stdout",
     "output_type": "stream",
     "text": [
      "([23, 45, 67, 89], <class 'list'>)\n",
      "<class 'tuple'>\n",
      "({'name': 'Rajesh Hamal', 'Age': 23, 'graduated': True}, <class 'dict'>)\n"
     ]
    }
   ],
   "source": [
    "# Collection data type\n",
    "# list, dictionary, tuple\n",
    "marks = [23, 45, 67, 89]\n",
    "toPrint = (marks, type(marks))\n",
    "print(toPrint)\n",
    "print(type(toPrint))\n",
    "\n",
    "\n",
    "student = {'name':'Rajesh Hamal', 'Age': 23, 'graduated': True}\n",
    "print((student, type(student)))"
   ]
  },
  {
   "cell_type": "code",
   "execution_count": 9,
   "metadata": {},
   "outputs": [
    {
     "name": "stdout",
     "output_type": "stream",
     "text": [
      "22\n"
     ]
    }
   ],
   "source": [
    "a = 20\n",
    "name = \"Ram\"\n",
    "\n",
    "a += 2\n",
    "print(a)\n",
    "\n",
    "b = True\n",
    "marks = 56.5"
   ]
  },
  {
   "cell_type": "code",
   "execution_count": 10,
   "metadata": {},
   "outputs": [
    {
     "name": "stdout",
     "output_type": "stream",
     "text": [
      "('Ramesh', 34, 9847654564, 'ramesh@abc.com')\n"
     ]
    }
   ],
   "source": [
    "name, age, phone, email = \"Ramesh\", 34, 9847654564, \"ramesh@abc.com\"\n",
    "print((name, age, phone, email))"
   ]
  },
  {
   "cell_type": "code",
   "execution_count": 11,
   "metadata": {},
   "outputs": [
    {
     "name": "stdout",
     "output_type": "stream",
     "text": [
      "('Graduated', 'Graduated', 'Graduated')\n"
     ]
    }
   ],
   "source": [
    "# student1qualification\n",
    "s1q = s2q = s3q = \"Graduated\"\n",
    "print((s1q, s2q, s3q))"
   ]
  },
  {
   "cell_type": "code",
   "execution_count": 12,
   "metadata": {},
   "outputs": [
    {
     "name": "stdout",
     "output_type": "stream",
     "text": [
      "Remainder is 5, Quotent is 1\n",
      "<class 'int'>\n",
      "(1.0, <class 'float'>)\n",
      "<class 'int'>\n",
      "75\n"
     ]
    }
   ],
   "source": [
    "a = 20\n",
    "b = 15\n",
    "\n",
    "remainder = a%b\n",
    "quotent = a//b\n",
    "\n",
    "print(f\"Remainder is {remainder}, Quotent is {a//b}\")\n",
    "\n",
    "print(type(quotent))\n",
    "\n",
    "float_quotent = float(quotent)\n",
    "print((float_quotent, type(float_quotent)))\n",
    "\n",
    "print(type(int(float_quotent)))\n",
    "\n",
    "marks1 = 75.2\n",
    "marks_rounded = round(marks1)\n",
    "print(marks_rounded)\n"
   ]
  },
  {
   "cell_type": "code",
   "execution_count": 13,
   "metadata": {},
   "outputs": [
    {
     "name": "stdout",
     "output_type": "stream",
     "text": [
      "My name is Ram I am 23\n"
     ]
    }
   ],
   "source": [
    "# string concatination\n",
    "s1 = \"My name is Ram \"\n",
    "s2 = \"I am 23\"\n",
    "ram = s1 + s2\n",
    "print(ram)"
   ]
  },
  {
   "cell_type": "code",
   "execution_count": 14,
   "metadata": {},
   "outputs": [
    {
     "name": "stdout",
     "output_type": "stream",
     "text": [
      "My name is Ram, I am 23\n",
      "My name is Ram, I am 23\n",
      "My name is Ram, I am 23\n"
     ]
    }
   ],
   "source": [
    "\n",
    "name = \"Ram\"\n",
    "age = 23\n",
    "# F string\n",
    "print(f\"My name is {name}, I am {age}\")\n",
    "#Format function\n",
    "print(\"My name is {}, I am {}\".format(name, age))\n",
    "# % operator\n",
    "print(\"My name is %s, I am %d\" %(name,age))\n",
    "\n",
    "\n",
    "\n"
   ]
  },
  {
   "cell_type": "code",
   "execution_count": 15,
   "metadata": {},
   "outputs": [
    {
     "name": "stdout",
     "output_type": "stream",
     "text": [
      "My name is Ram, I am 23\n",
      "23\n",
      "('a', 'z')\n"
     ]
    }
   ],
   "source": [
    "# (len, min, max, str.index(\"a\"), str.find(\"a\"), str.count(\"a\"), .lower(), .upper(), .strip(\"a\"), .startswith(),  .replace(old, new), .split(\",\"), delim.join(list))\n",
    "ram = f\"My name is {name}, I am {age}\"\n",
    "print(ram)\n",
    "\n",
    "print(len(ram))\n",
    "print((min('abcdz'), max('abcdz')))\n"
   ]
  },
  {
   "cell_type": "code",
   "execution_count": 16,
   "metadata": {},
   "outputs": [
    {
     "name": "stdout",
     "output_type": "stream",
     "text": [
      "My name is Ram, I am 23\n",
      "(4, 4)\n",
      "1\n",
      "('my name is ram, i am 23', 'MY NAME IS RAM, I AM 23')\n"
     ]
    }
   ],
   "source": [
    "\n",
    "# property functions\n",
    "print(ram)\n",
    "print((ram.index('a'), ram.find('a')))\n",
    "# Research about differences between find and index\n",
    "# Research about .strip(\"a\"), .startswith(),\n",
    "\n",
    "print(ram.count('R'))\n",
    "\n",
    "print((ram.lower(), ram.upper()))\n",
    "ram_upper = ram.upper()\n",
    "\n",
    "\n"
   ]
  },
  {
   "cell_type": "code",
   "execution_count": 17,
   "metadata": {},
   "outputs": [
    {
     "name": "stdout",
     "output_type": "stream",
     "text": [
      "My name is Hari, I am 23\n",
      "['Ram', ' 24', ' student']\n"
     ]
    }
   ],
   "source": [
    "hari = ram.replace(\"Ram\", \"Hari\")\n",
    "print(hari)\n",
    "\n",
    "text = \"Ram, 24, student\"\n",
    "text_list = text.split(',')\n",
    "print(text_list)"
   ]
  },
  {
   "cell_type": "code",
   "execution_count": 18,
   "metadata": {},
   "outputs": [
    {
     "name": "stdout",
     "output_type": "stream",
     "text": [
      "['My', 'name', 'is', 'Hari,', 'I', 'am', '23']\n",
      "My name is Hari, I am 23\n"
     ]
    }
   ],
   "source": [
    "hari_list = hari.split(' ')\n",
    "print(hari_list)\n",
    "\n",
    "joined_list = (\" \").join(hari_list)\n",
    "print(joined_list)\n",
    "# help('str.join')\n"
   ]
  },
  {
   "cell_type": "markdown",
   "metadata": {},
   "source": [
    "## Conditionals"
   ]
  },
  {
   "cell_type": "code",
   "execution_count": 19,
   "metadata": {},
   "outputs": [
    {
     "name": "stdout",
     "output_type": "stream",
     "text": [
      "Both the numbers are equal\n"
     ]
    }
   ],
   "source": [
    "num1 = 300\n",
    "num2 = 300\n",
    "\n",
    "if(num1>num2):\n",
    "    print(f\"{num1} is greater\")\n",
    "elif(num1 == num2):\n",
    "    print(\"Both the numbers are equal\")\n",
    "else:\n",
    "    print(f\"{num2} is greater\")"
   ]
  },
  {
   "cell_type": "markdown",
   "metadata": {},
   "source": [
    "# Loops"
   ]
  },
  {
   "cell_type": "code",
   "execution_count": 20,
   "metadata": {},
   "outputs": [
    {
     "name": "stdout",
     "output_type": "stream",
     "text": [
      "23\n",
      "34\n",
      "56\n",
      "65\n"
     ]
    }
   ],
   "source": [
    "age = [23,34,56,65]\n",
    "for i in age:\n",
    "    print(i)"
   ]
  },
  {
   "cell_type": "code",
   "execution_count": 21,
   "metadata": {},
   "outputs": [
    {
     "name": "stdout",
     "output_type": "stream",
     "text": [
      "1\n",
      "3\n",
      "5\n",
      "7\n",
      "9\n",
      "11\n",
      "13\n",
      "15\n",
      "17\n",
      "19\n",
      "21\n"
     ]
    }
   ],
   "source": [
    "for i in range(1,23, 2):\n",
    "    print(i)"
   ]
  }
 ],
 "metadata": {
  "kernelspec": {
   "display_name": "base",
   "language": "python",
   "name": "python3"
  },
  "language_info": {
   "codemirror_mode": {
    "name": "ipython",
    "version": 3
   },
   "file_extension": ".py",
   "mimetype": "text/x-python",
   "name": "python",
   "nbconvert_exporter": "python",
   "pygments_lexer": "ipython3",
   "version": "3.11.7"
  }
 },
 "nbformat": 4,
 "nbformat_minor": 2
}
